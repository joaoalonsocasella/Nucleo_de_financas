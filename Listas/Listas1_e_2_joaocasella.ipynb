{
 "cells": [
  {
   "cell_type": "markdown",
   "metadata": {},
   "source": [
    "# Lista de Exercícios - João Alonso Casella\n",
    "\n",
    "João Alonso Casella - Trainee Quant 2022-1\n",
    "|Feito em Jupyter Notebook\n",
    "\n",
    "# Lista 1 - Python Básico\n"
   ]
  },
  {
   "cell_type": "code",
   "execution_count": 1,
   "metadata": {},
   "outputs": [],
   "source": [
    "import math as m"
   ]
  },
  {
   "cell_type": "code",
   "execution_count": 70,
   "metadata": {},
   "outputs": [
    {
     "name": "stdout",
     "output_type": "stream",
     "text": [
      "Exercício 1: \n",
      "Digite seu nome:\n",
      "Marcela\n",
      "Olá, Marcela . Digite sua idade e seu semestre (número apenas): \n",
      "19\n",
      "3\n",
      "Marcela , qual é o seu curso?\n",
      "Economia\n",
      "Oi, meu nome é Marcela, tenho 19 anos, e estou no 3º semestre de Economia no Insper.\n"
     ]
    }
   ],
   "source": [
    "# 1a)\n",
    "print('Exercício 1: ')\n",
    "print('Digite seu nome:')\n",
    "nome = input()\n",
    "print('Olá, ' + nome,\". Digite sua idade e seu semestre (número apenas): \")\n",
    "idade=input()\n",
    "semestre=input()\n",
    "print(nome, ', qual é o seu curso?')\n",
    "curso = input()\n",
    "print('Oi, meu nome é '+ nome +', tenho '+ idade +' anos, e estou no '+ semestre + 'º semestre de '+ curso +' no Insper.')"
   ]
  },
  {
   "cell_type": "code",
   "execution_count": 71,
   "metadata": {},
   "outputs": [
    {
     "name": "stdout",
     "output_type": "stream",
     "text": [
      "Posição do nome:  15\n",
      "Posição da idade:  30\n",
      "Número de caracteres no nome:  7\n"
     ]
    }
   ],
   "source": [
    "# 1b)\n",
    "frase = 'Oi, meu nome é '+ nome +', tenho '+ idade +' anos, e estou no '+ semestre + 'º semestre de '+ curso +' no Insper.'\n",
    "print(\"Posição do nome: \", frase.find(nome))\n",
    "print(\"Posição da idade: \", frase.find(idade))\n",
    "print(\"Número de caracteres no nome: \", len(nome))"
   ]
  },
  {
   "cell_type": "code",
   "execution_count": 72,
   "metadata": {},
   "outputs": [
    {
     "name": "stdout",
     "output_type": "stream",
     "text": [
      "Oi, \n",
      "meu nome é Marcela, \n",
      "tenho 19 anos, \n",
      "e estou no 3º semestre de Economia no Insper.\n"
     ]
    }
   ],
   "source": [
    "# 1c)\n",
    "print( 'Oi,', '\\nmeu nome é '+ nome +', \\ntenho '+ idade +' anos, \\ne estou no '+ semestre + 'º semestre de '+ curso +' no Insper.')"
   ]
  },
  {
   "cell_type": "code",
   "execution_count": 7,
   "metadata": {},
   "outputs": [
    {
     "name": "stdout",
     "output_type": "stream",
     "text": [
      "Exercício 2: \n",
      "a) 2196\n",
      "b) 2172\n",
      "c) 19\n",
      "d) 252\n",
      "e) 2401\n",
      "f) 8\n",
      "g) 2\n",
      "h) 106\n",
      "i) 141\n",
      "j) 11\n"
     ]
    }
   ],
   "source": [
    "# 2a)\n",
    "print('Exercício 2: ')\n",
    "a = 1875+321\n",
    "print('a)',a)\n",
    "# 2b)\n",
    "b = 2641-469\n",
    "print('b)',b)\n",
    "# 2c)\n",
    "c=475/25\n",
    "print('c)',round(c,))\n",
    "# 2d)\n",
    "d=36*7\n",
    "print('d)',d)\n",
    "# 2e)\n",
    "e=7**4\n",
    "print('e)',e)\n",
    "# 2f)\n",
    "f=abs(-8)\n",
    "print('f)',f)\n",
    "# 2g)\n",
    "g = 785%3\n",
    "print('g)',g)\n",
    "# 2h)\n",
    "h=641//6\n",
    "print('h)',h)\n",
    "# 2i)\n",
    "i=m.sqrt(19881)\n",
    "print('i)',round(i,))\n",
    "# 2j)\n",
    "j=round(8*1.33,)\n",
    "print('j)',j)"
   ]
  },
  {
   "cell_type": "code",
   "execution_count": null,
   "metadata": {},
   "outputs": [],
   "source": [
    "# 3a)\n",
    "print('Exercício 3')\n",
    "a3= [(3**2),(2**4)]\n",
    "max_a3 = max(a3)\n",
    "min_a3 = min(a3)\n",
    "print('a) Máximo: ',max_a3,'; Mínimo: ',min_a3)\n",
    "\n",
    "# 3b)\n",
    "b3 = [round(25/5,),round(28/7,)]\n",
    "max_b3 = max(b3)\n",
    "min_b3 = min(b3)\n",
    "print('b) Máximo: ',max_b3,'; Mínimo: ',min_b3)\n",
    "\n",
    "# 3c)\n",
    "c3 = [(6*9),(8*7)]\n",
    "max_c3 = max(c3)\n",
    "min_c3 = min(c3)\n",
    "print('c) Máximo: ',max_c3,'; Mínimo: ',min_c3)\n"
   ]
  },
  {
   "cell_type": "code",
   "execution_count": 1,
   "metadata": {},
   "outputs": [
    {
     "name": "stdout",
     "output_type": "stream",
     "text": [
      "Adicione um ativo: \n",
      "PETR4\n",
      "Deseja continuar? s\n",
      "VALE3\n",
      "Deseja continuar? s\n",
      "BRK.SA\n",
      "Deseja continuar? n\n",
      "['VVAR3.SA', 'SLCE3.SA', 'BBSE3.SA', 'ECOO11.SA', 'PETZ3.SA', 'PETR4', 'VALE3', 'BRK.SA']\n"
     ]
    }
   ],
   "source": [
    "# 4a)\n",
    "carteira=['VVAR3.SA','SLCE3.SA','BBSE3.SA','ECOO11.SA','PETZ3.SA']\n",
    "print(\"Adicione um ativo: \")\n",
    "carteira.append(input())\n",
    "continuar = input(\"Deseja continuar? (s/n)\")\n",
    "while continuar == 's':\n",
    "    carteira.append(input())\n",
    "    continuar = input(\"Deseja continuar? (s/n)\")\n",
    "\n",
    "print(carteira)"
   ]
  },
  {
   "cell_type": "code",
   "execution_count": 2,
   "metadata": {},
   "outputs": [
    {
     "name": "stdout",
     "output_type": "stream",
     "text": [
      "Qual ativo se deseja remover?\n",
      "ECOO11.SA\n",
      "['VVAR3.SA', 'SLCE3.SA', 'BBSE3.SA', 'PETZ3.SA', 'PETR4', 'VALE3', 'BRK.SA']\n",
      "Deseja continuar? s\n",
      "BBSE3.SA\n",
      "Deseja continuar? n\n",
      "['VVAR3.SA', 'SLCE3.SA', 'PETZ3.SA', 'PETR4', 'VALE3', 'BRK.SA']\n"
     ]
    }
   ],
   "source": [
    "# 4b)\n",
    "print(\"Qual ativo se deseja remover?\")\n",
    "x = carteira.index(input())\n",
    "del(carteira[x])\n",
    "print(carteira)\n",
    "continuar = input(\"Deseja continuar? (s/n)\")\n",
    "while continuar == 's':\n",
    "    x = carteira.index(input())\n",
    "    del(carteira[x])\n",
    "    continuar = input(\"Deseja continuar? (s/n)\")\n",
    "\n",
    "print(carteira)"
   ]
  },
  {
   "cell_type": "code",
   "execution_count": 28,
   "metadata": {},
   "outputs": [
    {
     "name": "stdout",
     "output_type": "stream",
     "text": [
      "Insira o valor no tempo inicial: \n",
      "2\n",
      "[2]\n",
      "\n",
      "Agora insira o novo valor: \n",
      "2\n",
      "0.0\n",
      "Retorno = 0\n"
     ]
    }
   ],
   "source": [
    "# 5a)\n",
    "def ret():\n",
    "    lst=[]\n",
    "\n",
    "    print(\"Insira o valor no tempo inicial: \")\n",
    "    a = int(input())\n",
    "    lst.append(a)\n",
    "\n",
    "    print(lst)\n",
    "\n",
    "    print(\"\\nAgora insira o novo valor: \")\n",
    "    b = int(input())\n",
    "    lst.append(b)\n",
    "\n",
    "    r=(lst[1]-lst[0])/lst[0]\n",
    "\n",
    "    return r\n",
    "\n",
    "x = ret()\n",
    "print(x)\n",
    "\n",
    "# 5b)\n",
    "if x > 0:\n",
    "    print(\"Retorno Positivo\")\n",
    "elif x == 0:\n",
    "    print(\"Retorno = 0\")\n",
    "else:\n",
    "    print(\"Retorno Negativo\")"
   ]
  },
  {
   "cell_type": "code",
   "execution_count": 7,
   "metadata": {},
   "outputs": [
    {
     "name": "stdout",
     "output_type": "stream",
     "text": [
      "Olá! Você possui algum animal de estimação? (s/n)\n",
      "s\n",
      "Ok. Quer ter algum dia? (s/n)\n",
      "s\n",
      "Ok... entendi.Você não vai ter animais de estimação.\n"
     ]
    }
   ],
   "source": [
    "# 6)\n",
    "\n",
    "print(\"Olá! Você possui algum animal de estimação? (s/n)\")\n",
    "resposta1 = []\n",
    "resposta2 = []\n",
    "resposta3 = []\n",
    "\n",
    "\n",
    "\n",
    "\n",
    "resposta1.append(input())\n",
    "if resposta1[0] =='s':\n",
    "    print(\"Ok. Gostaria de ter mais? (s/n)\")\n",
    "    resposta2.append(input())\n",
    "    if resposta2[0] =='s':\n",
    "        print('Perfeito! Recomenda-se a adoção!')\n",
    "    else:\n",
    "        print('Ok. Então continue cuidando dos que já possui.')\n",
    "else:\n",
    "    print('Ok. Quer ter algum dia? (s/n)')\n",
    "    resposta3.append(input())\n",
    "    if resposta3[0] =='s':\n",
    "        print('Ok. Boa sorte, algum dia você terá um animal de estimação!')\n",
    "    else:\n",
    "        print('Ok... entendi.Você não vai ter animais de estimação.')\n",
    "    "
   ]
  },
  {
   "cell_type": "code",
   "execution_count": 27,
   "metadata": {
    "scrolled": true
   },
   "outputs": [
    {
     "name": "stdout",
     "output_type": "stream",
     "text": [
      "=====================TRADUTOR ==========================================\n",
      "\n",
      "Bem-vindo ao tradutor de Ingles para Português! \n",
      "\n",
      "Escreva a frase que se deseja traduzir:\n",
      "Money\n",
      "\n",
      "Tradução:  Dinheiro\n"
     ]
    }
   ],
   "source": [
    "# 7)\n",
    "\n",
    "ing = {}\n",
    "ing[\"Hi\"]=\"Olá\"\n",
    "ing[\"How are you?\"]=\"Como você está?\"\n",
    "ing[\"How old are you?\"]=\"Quantos anos você tem?\"\n",
    "ing[\"Brazilian\"]=\"Brasileiro(a)\"\n",
    "ing[\"Financial market\"]=\"Mercado financeiro\"\n",
    "ing[\"Money\"]=\"Dinheiro\"\n",
    "print(\"=====================TRADUTOR ==========================================\")\n",
    "print(\"\\nBem-vindo ao tradutor de Ingles para Português! \\n\\nEscreva a frase que se deseja traduzir:\")\n",
    "x = ing[input()]\n",
    "\n",
    "print(\"\\nTradução: \", x)"
   ]
  },
  {
   "cell_type": "code",
   "execution_count": 42,
   "metadata": {},
   "outputs": [
    {
     "name": "stdout",
     "output_type": "stream",
     "text": [
      "Coloque o número desejado:\n",
      "12\n",
      "22\n",
      "32\n",
      "42\n",
      "52\n",
      "62\n",
      "72\n",
      "82\n",
      "92\n",
      "102\n",
      "112\n",
      "122\n",
      "132\n",
      "142\n",
      "==============================FIM=========================\n"
     ]
    }
   ],
   "source": [
    "# 8)\n",
    "print(\"Coloque o número desejado:\")\n",
    "x = int(input())\n",
    "x2 = x**2\n",
    "while x+10 < x2:\n",
    "    x=x+10\n",
    "    print(x)\n",
    "print('==============================FIM=========================')"
   ]
  },
  {
   "cell_type": "code",
   "execution_count": 8,
   "metadata": {},
   "outputs": [
    {
     "name": "stdout",
     "output_type": "stream",
     "text": [
      "Insira sua nota da Atividade Prática Supervisionada: \n",
      "e\n",
      "Erro: por favor, coloque um número entre 0 e 10.\n"
     ]
    }
   ],
   "source": [
    "# 9)\n",
    "\n",
    "try:\n",
    "    print(\"Insira sua nota da Atividade Prática Supervisionada: \")\n",
    "    aps = int(input())\n",
    "    print(\"Insira sua nota da Prova Intermediária: \")\n",
    "    pi = int(input())\n",
    "    print(\"Insira sua nota da Prova Final: \")\n",
    "    pf = int(input())\n",
    "    x = (aps+pi+pf)/3\n",
    "\n",
    "    while x > 0 and x<=10:\n",
    "        print(\"Média aluno: \",x)\n",
    "        if x<5:\n",
    "            print(\"Média Baixa! Reprovado!\")\n",
    "        elif x==5:\n",
    "            print(\"Está na Média! Passou raspando!\")\n",
    "        else:\n",
    "            print(\"Acima da Média! Passou com sobra!\")\n",
    "        break\n",
    "except:\n",
    "    print(\"Erro: por favor, coloque um número entre 0 e 10.\")"
   ]
  },
  {
   "cell_type": "markdown",
   "metadata": {},
   "source": [
    "# Lista 2 - Pandas"
   ]
  },
  {
   "cell_type": "code",
   "execution_count": 1,
   "metadata": {},
   "outputs": [
    {
     "data": {
      "text/html": [
       "<div>\n",
       "<style scoped>\n",
       "    .dataframe tbody tr th:only-of-type {\n",
       "        vertical-align: middle;\n",
       "    }\n",
       "\n",
       "    .dataframe tbody tr th {\n",
       "        vertical-align: top;\n",
       "    }\n",
       "\n",
       "    .dataframe thead th {\n",
       "        text-align: right;\n",
       "    }\n",
       "</style>\n",
       "<table border=\"1\" class=\"dataframe\">\n",
       "  <thead>\n",
       "    <tr style=\"text-align: right;\">\n",
       "      <th></th>\n",
       "      <th>TICKER</th>\n",
       "      <th>Setor</th>\n",
       "      <th>Close</th>\n",
       "      <th>Classe de Ativo</th>\n",
       "      <th>Float</th>\n",
       "      <th>Variação</th>\n",
       "      <th>Funcionários</th>\n",
       "      <th>índice BETA</th>\n",
       "      <th>Volume de Trasação</th>\n",
       "    </tr>\n",
       "  </thead>\n",
       "  <tbody>\n",
       "    <tr>\n",
       "      <th>0</th>\n",
       "      <td>NaN</td>\n",
       "      <td>Beverages</td>\n",
       "      <td>14.71</td>\n",
       "      <td>Ações</td>\n",
       "      <td>15744670000</td>\n",
       "      <td>-0.004079</td>\n",
       "      <td>53000.0</td>\n",
       "      <td>0.7236</td>\n",
       "      <td>25946800</td>\n",
       "    </tr>\n",
       "    <tr>\n",
       "      <th>1</th>\n",
       "      <td>NaN</td>\n",
       "      <td>Textiles &amp; Apparel</td>\n",
       "      <td>22.17</td>\n",
       "      <td>Ações</td>\n",
       "      <td>683062200</td>\n",
       "      <td>0.003157</td>\n",
       "      <td>17000.0</td>\n",
       "      <td>0.8043</td>\n",
       "      <td>5777900</td>\n",
       "    </tr>\n",
       "    <tr>\n",
       "      <th>2</th>\n",
       "      <td>NaN</td>\n",
       "      <td>Diversified Retail</td>\n",
       "      <td>28.36</td>\n",
       "      <td>Ações</td>\n",
       "      <td>924608900</td>\n",
       "      <td>-0.012341</td>\n",
       "      <td>1500.0</td>\n",
       "      <td>1.2025</td>\n",
       "      <td>3241200</td>\n",
       "    </tr>\n",
       "    <tr>\n",
       "      <th>3</th>\n",
       "      <td>NaN</td>\n",
       "      <td>Food &amp; Drug Retailing</td>\n",
       "      <td>16.03</td>\n",
       "      <td>Ações</td>\n",
       "      <td>1346914000</td>\n",
       "      <td>0.019339</td>\n",
       "      <td>50000.0</td>\n",
       "      <td>NaN</td>\n",
       "      <td>7753000</td>\n",
       "    </tr>\n",
       "    <tr>\n",
       "      <th>4</th>\n",
       "      <td>NaN</td>\n",
       "      <td>Passenger Transportation Services</td>\n",
       "      <td>22.73</td>\n",
       "      <td>Ações</td>\n",
       "      <td>333680000</td>\n",
       "      <td>0.032556</td>\n",
       "      <td>11968.0</td>\n",
       "      <td>1.7894</td>\n",
       "      <td>4117900</td>\n",
       "    </tr>\n",
       "    <tr>\n",
       "      <th>...</th>\n",
       "      <td>...</td>\n",
       "      <td>...</td>\n",
       "      <td>...</td>\n",
       "      <td>...</td>\n",
       "      <td>...</td>\n",
       "      <td>...</td>\n",
       "      <td>...</td>\n",
       "      <td>...</td>\n",
       "      <td>...</td>\n",
       "    </tr>\n",
       "    <tr>\n",
       "      <th>78</th>\n",
       "      <td>NaN</td>\n",
       "      <td>Oil &amp; Gas</td>\n",
       "      <td>22.67</td>\n",
       "      <td>Ações</td>\n",
       "      <td>1165000000</td>\n",
       "      <td>-0.007940</td>\n",
       "      <td>3370.0</td>\n",
       "      <td>1.1908</td>\n",
       "      <td>4653600</td>\n",
       "    </tr>\n",
       "    <tr>\n",
       "      <th>79</th>\n",
       "      <td>NaN</td>\n",
       "      <td>Diversified Retail</td>\n",
       "      <td>3.44</td>\n",
       "      <td>Ações</td>\n",
       "      <td>1598426000</td>\n",
       "      <td>-0.008721</td>\n",
       "      <td>53101.0</td>\n",
       "      <td>2.0753</td>\n",
       "      <td>36058600</td>\n",
       "    </tr>\n",
       "    <tr>\n",
       "      <th>80</th>\n",
       "      <td>NaN</td>\n",
       "      <td>Telecommunications Services</td>\n",
       "      <td>53.45</td>\n",
       "      <td>Ações</td>\n",
       "      <td>1676938000</td>\n",
       "      <td>-0.010290</td>\n",
       "      <td>34000.0</td>\n",
       "      <td>0.1819</td>\n",
       "      <td>2018900</td>\n",
       "    </tr>\n",
       "    <tr>\n",
       "      <th>81</th>\n",
       "      <td>NaN</td>\n",
       "      <td>Machinery, Equipment &amp; Components</td>\n",
       "      <td>31.91</td>\n",
       "      <td>Ações</td>\n",
       "      <td>4197318000</td>\n",
       "      <td>-0.016923</td>\n",
       "      <td>36987.0</td>\n",
       "      <td>0.5488</td>\n",
       "      <td>12080500</td>\n",
       "    </tr>\n",
       "    <tr>\n",
       "      <th>82</th>\n",
       "      <td>NaN</td>\n",
       "      <td>Miscellaneous Educational Service Providers</td>\n",
       "      <td>17.31</td>\n",
       "      <td>Ações</td>\n",
       "      <td>309088800</td>\n",
       "      <td>0.013865</td>\n",
       "      <td>17726.0</td>\n",
       "      <td>1.7052</td>\n",
       "      <td>2501100</td>\n",
       "    </tr>\n",
       "  </tbody>\n",
       "</table>\n",
       "<p>83 rows × 9 columns</p>\n",
       "</div>"
      ],
      "text/plain": [
       "    TICKER                                        Setor  Close  \\\n",
       "0      NaN                                    Beverages  14.71   \n",
       "1      NaN                           Textiles & Apparel  22.17   \n",
       "2      NaN                           Diversified Retail  28.36   \n",
       "3      NaN                        Food & Drug Retailing  16.03   \n",
       "4      NaN            Passenger Transportation Services  22.73   \n",
       "..     ...                                          ...    ...   \n",
       "78     NaN                                    Oil & Gas  22.67   \n",
       "79     NaN                           Diversified Retail   3.44   \n",
       "80     NaN                  Telecommunications Services  53.45   \n",
       "81     NaN            Machinery, Equipment & Components  31.91   \n",
       "82     NaN  Miscellaneous Educational Service Providers  17.31   \n",
       "\n",
       "   Classe de Ativo        Float  Variação  Funcionários  índice BETA  \\\n",
       "0            Ações  15744670000 -0.004079       53000.0       0.7236   \n",
       "1            Ações    683062200  0.003157       17000.0       0.8043   \n",
       "2            Ações    924608900 -0.012341        1500.0       1.2025   \n",
       "3            Ações   1346914000  0.019339       50000.0          NaN   \n",
       "4            Ações    333680000  0.032556       11968.0       1.7894   \n",
       "..             ...          ...       ...           ...          ...   \n",
       "78           Ações   1165000000 -0.007940        3370.0       1.1908   \n",
       "79           Ações   1598426000 -0.008721       53101.0       2.0753   \n",
       "80           Ações   1676938000 -0.010290       34000.0       0.1819   \n",
       "81           Ações   4197318000 -0.016923       36987.0       0.5488   \n",
       "82           Ações    309088800  0.013865       17726.0       1.7052   \n",
       "\n",
       "    Volume de Trasação  \n",
       "0             25946800  \n",
       "1              5777900  \n",
       "2              3241200  \n",
       "3              7753000  \n",
       "4              4117900  \n",
       "..                 ...  \n",
       "78             4653600  \n",
       "79            36058600  \n",
       "80             2018900  \n",
       "81            12080500  \n",
       "82             2501100  \n",
       "\n",
       "[83 rows x 9 columns]"
      ]
     },
     "execution_count": 1,
     "metadata": {},
     "output_type": "execute_result"
    }
   ],
   "source": [
    "# importando bibliotecas\n",
    "import pandas as pd\n",
    "df = pd.read_excel(\"basededados_listapandas.xlsx\")\n",
    "df"
   ]
  },
  {
   "cell_type": "code",
   "execution_count": 2,
   "metadata": {},
   "outputs": [
    {
     "name": "stdout",
     "output_type": "stream",
     "text": [
      "<class 'pandas.core.series.Series'>\n",
      "<class 'pandas.core.series.Series'>\n"
     ]
    }
   ],
   "source": [
    "# 1)\n",
    "print(type(df[\"Setor\"]))\n",
    "#ou\n",
    "print(type(df.Setor))"
   ]
  },
  {
   "cell_type": "code",
   "execution_count": 3,
   "metadata": {},
   "outputs": [],
   "source": [
    "# 2)\n",
    "# A coluna \"Classe de Ativo\" é redundante, todos os ativos na planilha são sobre ações\n",
    "\n",
    "df.drop(['Classe de Ativo'],axis=1,inplace=True)\n"
   ]
  },
  {
   "cell_type": "code",
   "execution_count": 4,
   "metadata": {},
   "outputs": [
    {
     "name": "stdout",
     "output_type": "stream",
     "text": [
      "Maior volume de transação:  88289000\n",
      "Menor volume de transação:  1280400\n"
     ]
    }
   ],
   "source": [
    "# 3) \n",
    "# Maior volume de transação\n",
    "print(\"Maior volume de transação: \", max(df.iloc[:,7]))\n",
    "# Menor volume de transação\n",
    "print('Menor volume de transação: ', min(df.iloc[:,7]))"
   ]
  },
  {
   "cell_type": "code",
   "execution_count": 48,
   "metadata": {},
   "outputs": [
    {
     "data": {
      "text/plain": [
       "30551.56"
      ]
     },
     "execution_count": 48,
     "metadata": {},
     "output_type": "execute_result"
    }
   ],
   "source": [
    "# 4)\n",
    "\n",
    "df_fun = df[\"Funcionários\"]\n",
    "df_fun.dropna(inplace=True)\n",
    "round(df_fun.mean(),2)"
   ]
  },
  {
   "cell_type": "code",
   "execution_count": 6,
   "metadata": {},
   "outputs": [
    {
     "data": {
      "text/html": [
       "<div>\n",
       "<style scoped>\n",
       "    .dataframe tbody tr th:only-of-type {\n",
       "        vertical-align: middle;\n",
       "    }\n",
       "\n",
       "    .dataframe tbody tr th {\n",
       "        vertical-align: top;\n",
       "    }\n",
       "\n",
       "    .dataframe thead th {\n",
       "        text-align: right;\n",
       "    }\n",
       "</style>\n",
       "<table border=\"1\" class=\"dataframe\">\n",
       "  <thead>\n",
       "    <tr style=\"text-align: right;\">\n",
       "      <th></th>\n",
       "      <th>TICKER</th>\n",
       "      <th>Setor</th>\n",
       "      <th>Close</th>\n",
       "      <th>Float</th>\n",
       "      <th>Variação</th>\n",
       "      <th>Funcionários</th>\n",
       "      <th>índice BETA</th>\n",
       "      <th>Volume de Trasação</th>\n",
       "      <th>Abertura</th>\n",
       "    </tr>\n",
       "  </thead>\n",
       "  <tbody>\n",
       "    <tr>\n",
       "      <th>0</th>\n",
       "      <td>NaN</td>\n",
       "      <td>Beverages</td>\n",
       "      <td>14.71</td>\n",
       "      <td>15744670000</td>\n",
       "      <td>-0.004079</td>\n",
       "      <td>53000.0</td>\n",
       "      <td>0.7236</td>\n",
       "      <td>25946800</td>\n",
       "      <td>14.770248</td>\n",
       "    </tr>\n",
       "    <tr>\n",
       "      <th>1</th>\n",
       "      <td>NaN</td>\n",
       "      <td>Textiles &amp; Apparel</td>\n",
       "      <td>22.17</td>\n",
       "      <td>683062200</td>\n",
       "      <td>0.003157</td>\n",
       "      <td>17000.0</td>\n",
       "      <td>0.8043</td>\n",
       "      <td>5777900</td>\n",
       "      <td>22.100230</td>\n",
       "    </tr>\n",
       "    <tr>\n",
       "      <th>2</th>\n",
       "      <td>NaN</td>\n",
       "      <td>Diversified Retail</td>\n",
       "      <td>28.36</td>\n",
       "      <td>924608900</td>\n",
       "      <td>-0.012341</td>\n",
       "      <td>1500.0</td>\n",
       "      <td>1.2025</td>\n",
       "      <td>3241200</td>\n",
       "      <td>28.714364</td>\n",
       "    </tr>\n",
       "    <tr>\n",
       "      <th>3</th>\n",
       "      <td>NaN</td>\n",
       "      <td>Food &amp; Drug Retailing</td>\n",
       "      <td>16.03</td>\n",
       "      <td>1346914000</td>\n",
       "      <td>0.019339</td>\n",
       "      <td>50000.0</td>\n",
       "      <td>NaN</td>\n",
       "      <td>7753000</td>\n",
       "      <td>15.725877</td>\n",
       "    </tr>\n",
       "    <tr>\n",
       "      <th>4</th>\n",
       "      <td>NaN</td>\n",
       "      <td>Passenger Transportation Services</td>\n",
       "      <td>22.73</td>\n",
       "      <td>333680000</td>\n",
       "      <td>0.032556</td>\n",
       "      <td>11968.0</td>\n",
       "      <td>1.7894</td>\n",
       "      <td>4117900</td>\n",
       "      <td>22.013334</td>\n",
       "    </tr>\n",
       "    <tr>\n",
       "      <th>...</th>\n",
       "      <td>...</td>\n",
       "      <td>...</td>\n",
       "      <td>...</td>\n",
       "      <td>...</td>\n",
       "      <td>...</td>\n",
       "      <td>...</td>\n",
       "      <td>...</td>\n",
       "      <td>...</td>\n",
       "      <td>...</td>\n",
       "    </tr>\n",
       "    <tr>\n",
       "      <th>78</th>\n",
       "      <td>NaN</td>\n",
       "      <td>Oil &amp; Gas</td>\n",
       "      <td>22.67</td>\n",
       "      <td>1165000000</td>\n",
       "      <td>-0.007940</td>\n",
       "      <td>3370.0</td>\n",
       "      <td>1.1908</td>\n",
       "      <td>4653600</td>\n",
       "      <td>22.851440</td>\n",
       "    </tr>\n",
       "    <tr>\n",
       "      <th>79</th>\n",
       "      <td>NaN</td>\n",
       "      <td>Diversified Retail</td>\n",
       "      <td>3.44</td>\n",
       "      <td>1598426000</td>\n",
       "      <td>-0.008721</td>\n",
       "      <td>53101.0</td>\n",
       "      <td>2.0753</td>\n",
       "      <td>36058600</td>\n",
       "      <td>3.470264</td>\n",
       "    </tr>\n",
       "    <tr>\n",
       "      <th>80</th>\n",
       "      <td>NaN</td>\n",
       "      <td>Telecommunications Services</td>\n",
       "      <td>53.45</td>\n",
       "      <td>1676938000</td>\n",
       "      <td>-0.010290</td>\n",
       "      <td>34000.0</td>\n",
       "      <td>0.1819</td>\n",
       "      <td>2018900</td>\n",
       "      <td>54.005719</td>\n",
       "    </tr>\n",
       "    <tr>\n",
       "      <th>81</th>\n",
       "      <td>NaN</td>\n",
       "      <td>Machinery, Equipment &amp; Components</td>\n",
       "      <td>31.91</td>\n",
       "      <td>4197318000</td>\n",
       "      <td>-0.016923</td>\n",
       "      <td>36987.0</td>\n",
       "      <td>0.5488</td>\n",
       "      <td>12080500</td>\n",
       "      <td>32.459309</td>\n",
       "    </tr>\n",
       "    <tr>\n",
       "      <th>82</th>\n",
       "      <td>NaN</td>\n",
       "      <td>Miscellaneous Educational Service Providers</td>\n",
       "      <td>17.31</td>\n",
       "      <td>309088800</td>\n",
       "      <td>0.013865</td>\n",
       "      <td>17726.0</td>\n",
       "      <td>1.7052</td>\n",
       "      <td>2501100</td>\n",
       "      <td>17.073279</td>\n",
       "    </tr>\n",
       "  </tbody>\n",
       "</table>\n",
       "<p>83 rows × 9 columns</p>\n",
       "</div>"
      ],
      "text/plain": [
       "    TICKER                                        Setor  Close        Float  \\\n",
       "0      NaN                                    Beverages  14.71  15744670000   \n",
       "1      NaN                           Textiles & Apparel  22.17    683062200   \n",
       "2      NaN                           Diversified Retail  28.36    924608900   \n",
       "3      NaN                        Food & Drug Retailing  16.03   1346914000   \n",
       "4      NaN            Passenger Transportation Services  22.73    333680000   \n",
       "..     ...                                          ...    ...          ...   \n",
       "78     NaN                                    Oil & Gas  22.67   1165000000   \n",
       "79     NaN                           Diversified Retail   3.44   1598426000   \n",
       "80     NaN                  Telecommunications Services  53.45   1676938000   \n",
       "81     NaN            Machinery, Equipment & Components  31.91   4197318000   \n",
       "82     NaN  Miscellaneous Educational Service Providers  17.31    309088800   \n",
       "\n",
       "    Variação  Funcionários  índice BETA  Volume de Trasação   Abertura  \n",
       "0  -0.004079       53000.0       0.7236            25946800  14.770248  \n",
       "1   0.003157       17000.0       0.8043             5777900  22.100230  \n",
       "2  -0.012341        1500.0       1.2025             3241200  28.714364  \n",
       "3   0.019339       50000.0          NaN             7753000  15.725877  \n",
       "4   0.032556       11968.0       1.7894             4117900  22.013334  \n",
       "..       ...           ...          ...                 ...        ...  \n",
       "78 -0.007940        3370.0       1.1908             4653600  22.851440  \n",
       "79 -0.008721       53101.0       2.0753            36058600   3.470264  \n",
       "80 -0.010290       34000.0       0.1819             2018900  54.005719  \n",
       "81 -0.016923       36987.0       0.5488            12080500  32.459309  \n",
       "82  0.013865       17726.0       1.7052             2501100  17.073279  \n",
       "\n",
       "[83 rows x 9 columns]"
      ]
     },
     "execution_count": 6,
     "metadata": {},
     "output_type": "execute_result"
    }
   ],
   "source": [
    "# 5)\n",
    "\n",
    "df[\"Abertura\"]=df[\"Close\"]/(1+df[\"Variação\"])\n",
    "df"
   ]
  },
  {
   "cell_type": "code",
   "execution_count": 7,
   "metadata": {},
   "outputs": [
    {
     "data": {
      "text/plain": [
       "'Oil & Gas'"
      ]
     },
     "execution_count": 7,
     "metadata": {},
     "output_type": "execute_result"
    }
   ],
   "source": [
    "# 6)\n",
    "df.Setor.iloc[df[\"Volume de Trasação\"].idxmax()]"
   ]
  },
  {
   "cell_type": "code",
   "execution_count": 8,
   "metadata": {},
   "outputs": [
    {
     "data": {
      "text/plain": [
       "0                                       Beverages\n",
       "1                              Textiles & Apparel\n",
       "2                              Diversified Retail\n",
       "3                           Food & Drug Retailing\n",
       "4               Passenger Transportation Services\n",
       "                         ...                     \n",
       "78                                      Oil & Gas\n",
       "79                             Diversified Retail\n",
       "80                    Telecommunications Services\n",
       "81              Machinery, Equipment & Components\n",
       "82    Miscellaneous Educational Service Providers\n",
       "Name: Setor, Length: 83, dtype: object"
      ]
     },
     "execution_count": 8,
     "metadata": {},
     "output_type": "execute_result"
    }
   ],
   "source": [
    "# 7)\n",
    "df_float = df[df.Float>=10000000]\n",
    "df_f = df_float[\"Setor\"]\n",
    "df_f"
   ]
  },
  {
   "cell_type": "code",
   "execution_count": 26,
   "metadata": {},
   "outputs": [
    {
     "name": "stdout",
     "output_type": "stream",
     "text": [
      "6     1.3368\n",
      "7     1.2646\n",
      "8     1.2646\n",
      "13    1.2706\n",
      "22    0.7051\n",
      "32    1.4215\n",
      "33    1.4215\n",
      "46    1.0865\n",
      "47    1.0631\n",
      "48    0.4761\n",
      "54    0.5636\n",
      "Name: índice BETA, dtype: float64\n",
      "O menor Índice BETA após os filtros é: \n",
      "Beta = 0.4761\n"
     ]
    }
   ],
   "source": [
    "# 8)\n",
    "# descobri que pode usar | como sinônimo do \"+\" que se usa na função print(), para quando se quer fazer um filtro que, para uma mesma coluna, escolha mais de um nome.\n",
    "df_filtro = df[(df[\"Setor\"] ==\"Banking Services\")|(df[\"Setor\"]==\"Electrical Utilities & IPPs\")|(df[\"Setor\"]==\"Food & Tobacco\")]\n",
    "df_filtro\n",
    "df_f2=df_filtro.loc[(df_filtro[\"Funcionários\"]>10000)|(df_filtro[\"Float\"]<2000000),\"índice BETA\"]\n",
    "print(df_f2)\n",
    "print(\"O menor Índice BETA após os filtros é: \\nBeta =\", min(df_f2))"
   ]
  },
  {
   "cell_type": "code",
   "execution_count": 31,
   "metadata": {},
   "outputs": [
    {
     "data": {
      "text/plain": [
       "42    Passenger Transportation Services\n",
       "Name: Setor, dtype: object"
      ]
     },
     "execution_count": 31,
     "metadata": {},
     "output_type": "execute_result"
    }
   ],
   "source": [
    "# 9)\n",
    "df.loc[df[\"índice BETA\"]==2.1356,\"Setor\"]"
   ]
  },
  {
   "cell_type": "code",
   "execution_count": 75,
   "metadata": {},
   "outputs": [
    {
     "name": "stdout",
     "output_type": "stream",
     "text": [
      "====================================================================================\n",
      "Correlação:  0.33\n",
      "====================================================================================\n",
      "Sozinho o valor não possui sentido prático. \n",
      "A correlação pode muitas vezes ser mal-interpretada como sinônimo de causalidade. \n",
      "Recomenda-se uma análise mais abrangente da relação entre as duas variáveis.\n",
      "====================================================================================\n"
     ]
    }
   ],
   "source": [
    "# 10)\n",
    "x = df[\"Funcionários\"]\n",
    "x.dropna(inplace=True)\n",
    "y = df[\"Float\"]\n",
    "y.dropna(inplace=True)\n",
    "\n",
    "z = round(x.corr(y),2)\n",
    "\n",
    "print(\"====================================================================================\\nCorrelação: \",z)\n",
    "\n",
    "print(\"====================================================================================\\nSozinho o valor não possui sentido prático. \\nA correlação pode muitas vezes ser mal-interpretada como sinônimo de causalidade. \\nRecomenda-se uma análise mais abrangente da relação entre as duas variáveis.\\n====================================================================================\")"
   ]
  },
  {
   "cell_type": "code",
   "execution_count": 87,
   "metadata": {},
   "outputs": [
    {
     "data": {
      "text/html": [
       "<div>\n",
       "<style scoped>\n",
       "    .dataframe tbody tr th:only-of-type {\n",
       "        vertical-align: middle;\n",
       "    }\n",
       "\n",
       "    .dataframe tbody tr th {\n",
       "        vertical-align: top;\n",
       "    }\n",
       "\n",
       "    .dataframe thead th {\n",
       "        text-align: right;\n",
       "    }\n",
       "</style>\n",
       "<table border=\"1\" class=\"dataframe\">\n",
       "  <thead>\n",
       "    <tr style=\"text-align: right;\">\n",
       "      <th></th>\n",
       "      <th>Setor</th>\n",
       "      <th>Fechamento</th>\n",
       "      <th>Float</th>\n",
       "      <th>Variação</th>\n",
       "      <th>Funcionários</th>\n",
       "      <th>Volume de Trasação</th>\n",
       "      <th>índice BETA</th>\n",
       "      <th>Abertura</th>\n",
       "    </tr>\n",
       "  </thead>\n",
       "  <tbody>\n",
       "    <tr>\n",
       "      <th>0</th>\n",
       "      <td>Beverages</td>\n",
       "      <td>14.71</td>\n",
       "      <td>15744670000</td>\n",
       "      <td>-0.004079</td>\n",
       "      <td>53000.0</td>\n",
       "      <td>25946800</td>\n",
       "      <td>0.7236</td>\n",
       "      <td>14.770248</td>\n",
       "    </tr>\n",
       "    <tr>\n",
       "      <th>59</th>\n",
       "      <td>Oil &amp; Gas</td>\n",
       "      <td>34.12</td>\n",
       "      <td>13044500000</td>\n",
       "      <td>0.017292</td>\n",
       "      <td>45532.0</td>\n",
       "      <td>14921300</td>\n",
       "      <td>1.5059</td>\n",
       "      <td>33.540026</td>\n",
       "    </tr>\n",
       "    <tr>\n",
       "      <th>60</th>\n",
       "      <td>Oil &amp; Gas</td>\n",
       "      <td>30.72</td>\n",
       "      <td>13044500000</td>\n",
       "      <td>0.030273</td>\n",
       "      <td>45532.0</td>\n",
       "      <td>88289000</td>\n",
       "      <td>1.5059</td>\n",
       "      <td>29.817340</td>\n",
       "    </tr>\n",
       "    <tr>\n",
       "      <th>20</th>\n",
       "      <td>Metals &amp; Mining</td>\n",
       "      <td>5.81</td>\n",
       "      <td>11182490000</td>\n",
       "      <td>0.000000</td>\n",
       "      <td>7432.0</td>\n",
       "      <td>3090800</td>\n",
       "      <td>NaN</td>\n",
       "      <td>5.810000</td>\n",
       "    </tr>\n",
       "    <tr>\n",
       "      <th>47</th>\n",
       "      <td>Banking Services</td>\n",
       "      <td>26.48</td>\n",
       "      <td>9804136000</td>\n",
       "      <td>-0.017749</td>\n",
       "      <td>99600.0</td>\n",
       "      <td>34387000</td>\n",
       "      <td>1.0631</td>\n",
       "      <td>26.958486</td>\n",
       "    </tr>\n",
       "    <tr>\n",
       "      <th>...</th>\n",
       "      <td>...</td>\n",
       "      <td>...</td>\n",
       "      <td>...</td>\n",
       "      <td>...</td>\n",
       "      <td>...</td>\n",
       "      <td>...</td>\n",
       "      <td>...</td>\n",
       "      <td>...</td>\n",
       "    </tr>\n",
       "    <tr>\n",
       "      <th>58</th>\n",
       "      <td>Food &amp; Drug Retailing</td>\n",
       "      <td>23.78</td>\n",
       "      <td>269395400</td>\n",
       "      <td>-0.000841</td>\n",
       "      <td>110000.0</td>\n",
       "      <td>1614100</td>\n",
       "      <td>NaN</td>\n",
       "      <td>23.800016</td>\n",
       "    </tr>\n",
       "    <tr>\n",
       "      <th>38</th>\n",
       "      <td>Real Estate Operations</td>\n",
       "      <td>16.56</td>\n",
       "      <td>227000000</td>\n",
       "      <td>0.015700</td>\n",
       "      <td>338.0</td>\n",
       "      <td>1280400</td>\n",
       "      <td>1.3240</td>\n",
       "      <td>16.304027</td>\n",
       "    </tr>\n",
       "    <tr>\n",
       "      <th>27</th>\n",
       "      <td>Hotels &amp; Entertainment Services</td>\n",
       "      <td>14.33</td>\n",
       "      <td>224934800</td>\n",
       "      <td>0.011165</td>\n",
       "      <td>2000.0</td>\n",
       "      <td>10675500</td>\n",
       "      <td>1.9679</td>\n",
       "      <td>14.171772</td>\n",
       "    </tr>\n",
       "    <tr>\n",
       "      <th>69</th>\n",
       "      <td>Oil &amp; Gas</td>\n",
       "      <td>44.71</td>\n",
       "      <td>202593100</td>\n",
       "      <td>-0.032431</td>\n",
       "      <td>NaN</td>\n",
       "      <td>3342700</td>\n",
       "      <td>NaN</td>\n",
       "      <td>46.208591</td>\n",
       "    </tr>\n",
       "    <tr>\n",
       "      <th>62</th>\n",
       "      <td>Computers, Phones &amp; Household Electronics</td>\n",
       "      <td>8.66</td>\n",
       "      <td>141800000</td>\n",
       "      <td>0.010393</td>\n",
       "      <td>4000.0</td>\n",
       "      <td>1425700</td>\n",
       "      <td>1.6886</td>\n",
       "      <td>8.570922</td>\n",
       "    </tr>\n",
       "  </tbody>\n",
       "</table>\n",
       "<p>83 rows × 8 columns</p>\n",
       "</div>"
      ],
      "text/plain": [
       "                                        Setor  Fechamento        Float  \\\n",
       "0                                   Beverages       14.71  15744670000   \n",
       "59                                  Oil & Gas       34.12  13044500000   \n",
       "60                                  Oil & Gas       30.72  13044500000   \n",
       "20                            Metals & Mining        5.81  11182490000   \n",
       "47                           Banking Services       26.48   9804136000   \n",
       "..                                        ...         ...          ...   \n",
       "58                      Food & Drug Retailing       23.78    269395400   \n",
       "38                     Real Estate Operations       16.56    227000000   \n",
       "27            Hotels & Entertainment Services       14.33    224934800   \n",
       "69                                  Oil & Gas       44.71    202593100   \n",
       "62  Computers, Phones & Household Electronics        8.66    141800000   \n",
       "\n",
       "    Variação  Funcionários  Volume de Trasação  índice BETA   Abertura  \n",
       "0  -0.004079       53000.0            25946800       0.7236  14.770248  \n",
       "59  0.017292       45532.0            14921300       1.5059  33.540026  \n",
       "60  0.030273       45532.0            88289000       1.5059  29.817340  \n",
       "20  0.000000        7432.0             3090800          NaN   5.810000  \n",
       "47 -0.017749       99600.0            34387000       1.0631  26.958486  \n",
       "..       ...           ...                 ...          ...        ...  \n",
       "58 -0.000841      110000.0             1614100          NaN  23.800016  \n",
       "38  0.015700         338.0             1280400       1.3240  16.304027  \n",
       "27  0.011165        2000.0            10675500       1.9679  14.171772  \n",
       "69 -0.032431           NaN             3342700          NaN  46.208591  \n",
       "62  0.010393        4000.0             1425700       1.6886   8.570922  \n",
       "\n",
       "[83 rows x 8 columns]"
      ]
     },
     "execution_count": 87,
     "metadata": {},
     "output_type": "execute_result"
    }
   ],
   "source": [
    "# 11)\n",
    "df.rename(columns = {\"Close\":\"Fechamento\"},inplace=True)\n",
    "column_names = [\"Setor\",\"Fechamento\",\"Float\",\"Variação\",\"Funcionários\",\"Volume de Trasação\",\"índice BETA\",\"Abertura\"]\n",
    "df=df.reindex(columns=column_names)\n",
    "df.sort_values(by=\"Float\",ascending=False,inplace=True)\n",
    "df"
   ]
  },
  {
   "cell_type": "markdown",
   "metadata": {},
   "source": [
    "# Obrigado! Bom Econo!\n",
    "# =============================================================\n"
   ]
  },
  {
   "cell_type": "code",
   "execution_count": null,
   "metadata": {},
   "outputs": [],
   "source": []
  }
 ],
 "metadata": {
  "kernelspec": {
   "display_name": "Python 3",
   "language": "python",
   "name": "python3"
  },
  "language_info": {
   "codemirror_mode": {
    "name": "ipython",
    "version": 3
   },
   "file_extension": ".py",
   "mimetype": "text/x-python",
   "name": "python",
   "nbconvert_exporter": "python",
   "pygments_lexer": "ipython3",
   "version": "3.8.3"
  }
 },
 "nbformat": 4,
 "nbformat_minor": 4
}
